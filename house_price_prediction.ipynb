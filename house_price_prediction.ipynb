{
  "cells": [
    {
      "cell_type": "markdown",
      "metadata": {
        "id": "view-in-github",
        "colab_type": "text"
      },
      "source": [
        "<a href=\"https://colab.research.google.com/github/praveenkumarbalakrishnan/tasks/blob/main/house_price_prediction.ipynb\" target=\"_parent\"><img src=\"https://colab.research.google.com/assets/colab-badge.svg\" alt=\"Open In Colab\"/></a>"
      ]
    },
    {
      "cell_type": "code",
      "source": [
        "import urllib.request\n",
        "import json\n",
        "import os\n",
        "import ssl\n",
        "\n",
        "def allowSelfSignedHttps(allowed):\n",
        "    # bypass the server certificate verification on client side\n",
        "    if allowed and not os.environ.get('PYTHONHTTPSVERIFY', '') and getattr(ssl, '_create_unverified_context', None):\n",
        "        ssl._create_default_https_context = ssl._create_unverified_context\n",
        "\n",
        "allowSelfSignedHttps(True) # this line is needed if you use self-signed certificate in your scoring service.\n",
        "\n",
        "# Request data goes here\n",
        "# The example below assumes JSON formatting which may be updated\n",
        "# depending on the format your endpoint expects.\n",
        "# More information can be found here:\n",
        "# https://docs.microsoft.com/azure/machine-learning/how-to-deploy-advanced-entry-script\n",
        "data = [\n",
        "  {\n",
        "    \"squareMeters\": 11986.0,\n",
        "    \"numberOfRooms\": 9.0,\n",
        "    \"hasYard\": 1.0,\n",
        "    \"hasPool\": 0.0,\n",
        "    \"floors\": 100.0,\n",
        "    \"cityCode\": 45263.0,\n",
        "    \"cityPartRange\": 4.0,\n",
        "    \"numPrevOwners\": 1.0,\n",
        "    \"made\": 2014.0,\n",
        "    \"isNewBuilt\": 1.0,\n",
        "    \"hasStormProtector\": 0.0,\n",
        "    \"basement\": 1441.0,\n",
        "    \"attic\": 5355.0,\n",
        "    \"garage\": 770.0,\n",
        "    \"hasStorageRoom\": 0.0,\n",
        "    \"price\": 0.0,\n",
        "    \"GuestRoom-1\": 0.0,\n",
        "    \"GuestRoom-2\": 0.0,\n",
        "    \"GuestRoom-3\": 1.0\n",
        "  },\n",
        "  {\n",
        "    \"squareMeters\": 56287.0,\n",
        "    \"numberOfRooms\": 87.0,\n",
        "    \"hasYard\": 0.0,\n",
        "    \"hasPool\": 1.0,\n",
        "    \"floors\": 91.0,\n",
        "    \"cityCode\": 70143.0,\n",
        "    \"cityPartRange\": 4.0,\n",
        "    \"numPrevOwners\": 2.0,\n",
        "    \"made\": 2000.0,\n",
        "    \"isNewBuilt\": 0.0,\n",
        "    \"hasStormProtector\": 0.0,\n",
        "    \"basement\": 7958.0,\n",
        "    \"attic\": 7785.0,\n",
        "    \"garage\": 160.0,\n",
        "    \"hasStorageRoom\": 0.0,\n",
        "    \"price\": 0.0,\n",
        "    \"GuestRoom-1\": 1.0,\n",
        "    \"GuestRoom-2\": 0.0,\n",
        "    \"GuestRoom-3\": 0.0\n",
        "  },\n",
        "  {\n",
        "    \"squareMeters\": 43789.0,\n",
        "    \"numberOfRooms\": 83.0,\n",
        "    \"hasYard\": 0.0,\n",
        "    \"hasPool\": 1.0,\n",
        "    \"floors\": 1.0,\n",
        "    \"cityCode\": 85398.0,\n",
        "    \"cityPartRange\": 1.0,\n",
        "    \"numPrevOwners\": 5.0,\n",
        "    \"made\": 2007.0,\n",
        "    \"isNewBuilt\": 0.0,\n",
        "    \"hasStormProtector\": 1.0,\n",
        "    \"basement\": 3713.0,\n",
        "    \"attic\": 789.0,\n",
        "    \"garage\": 998.0,\n",
        "    \"hasStorageRoom\": 1.0,\n",
        "    \"price\": 0.0,\n",
        "    \"GuestRoom-1\": 0.0,\n",
        "    \"GuestRoom-2\": 0.0,\n",
        "    \"GuestRoom-3\": 1.0\n",
        "  }\n",
        "]\n",
        "\n",
        "body = str.encode(json.dumps(data))\n",
        "\n",
        "url = 'http://20.235.29.137:80/api/v1/service/house-price-prediction/score'\n",
        "\n",
        "\n",
        "headers = {'Content-Type':'application/json'}\n",
        "\n",
        "req = urllib.request.Request(url, body, headers)\n",
        "\n",
        "try:\n",
        "    response = urllib.request.urlopen(req)\n",
        "\n",
        "    result = response.read()\n",
        "    print(result)\n",
        "except urllib.erroxr.HTTPError as error:\n",
        "    print(\"The request failed with status code: \" + str(error.code))\n",
        "\n",
        "    # Print the headers - they include the requert ID and the timestamp, which are useful for debugging the failure\n",
        "    print(error.info())\n",
        "    print(error.read().decode(\"utf8\", 'ignore'))"
      ],
      "outputs": [
        {
          "output_type": "stream",
          "name": "stdout",
          "text": "b'\"{\\\\\"result\\\\\": [[11986.0, 9.0, 1.0, 0.0, 100.0, 45263.0, 4.0, 1.0, 2014.0, 1.0, 0.0, 1441.0, 5355.0, 770.0, 0.0, 0.0, 0.0, 0.0, 1.0, 1205741.9772533001], [56287.0, 87.0, 0.0, 1.0, 91.0, 70143.0, 4.0, 2.0, 2000.0, 0.0, 0.0, 7958.0, 7785.0, 160.0, 0.0, 0.0, 1.0, 0.0, 0.0, 5638839.60478652], [43789.0, 83.0, 0.0, 1.0, 1.0, 85398.0, 1.0, 5.0, 2007.0, 0.0, 1.0, 3713.0, 789.0, 998.0, 1.0, 0.0, 0.0, 0.0, 1.0, 4389788.75203243]]}\"'\n"
        }
      ],
      "execution_count": null,
      "metadata": {
        "gather": {
          "logged": 1680154513096
        },
        "id": "ti6QmUHOgPt5",
        "outputId": "535cf37a-d87b-459f-88c0-8f56e223657a"
      }
    }
  ],
  "metadata": {
    "kernelspec": {
      "name": "python310-sdkv2",
      "language": "python",
      "display_name": "Python 3.10 - SDK v2"
    },
    "language_info": {
      "name": "python",
      "version": "3.10.9",
      "mimetype": "text/x-python",
      "codemirror_mode": {
        "name": "ipython",
        "version": 3
      },
      "pygments_lexer": "ipython3",
      "nbconvert_exporter": "python",
      "file_extension": ".py"
    },
    "microsoft": {
      "ms_spell_check": {
        "ms_spell_check_language": "en"
      },
      "host": {
        "AzureML": {
          "notebookHasBeenCompleted": true
        }
      }
    },
    "nteract": {
      "version": "nteract-front-end@1.0.0"
    },
    "kernel_info": {
      "name": "python310-sdkv2"
    },
    "colab": {
      "provenance": [],
      "include_colab_link": true
    }
  },
  "nbformat": 4,
  "nbformat_minor": 0
}
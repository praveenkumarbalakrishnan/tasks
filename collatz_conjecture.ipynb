{
  "nbformat": 4,
  "nbformat_minor": 0,
  "metadata": {
    "colab": {
      "name": "collatz_conjecture.ipynb",
      "provenance": []
    },
    "kernelspec": {
      "name": "python3",
      "display_name": "Python 3"
    },
    "language_info": {
      "name": "python"
    }
  },
  "cells": [
    {
      "cell_type": "code",
      "source": [
        "def check_collatz_conjecture(x):\n",
        "  def helper(x):\n",
        "    if x % 2 == 0:\n",
        "      x /= 2\n",
        "    else:\n",
        "      x = 3 * x + 1\n",
        "    if x > 4:\n",
        "      return helper(x)\n",
        "    else:\n",
        "      return x\n",
        "  x = helper(x)\n",
        "  return True if x == 4 else False\n"
      ],
      "metadata": {
        "id": "8KK7f89AzOzb"
      },
      "execution_count": 32,
      "outputs": []
    },
    {
      "cell_type": "code",
      "source": [
        "check_collatz_conjecture(131)"
      ],
      "metadata": {
        "colab": {
          "base_uri": "https://localhost:8080/"
        },
        "id": "I1Hinf7S0gzU",
        "outputId": "500e7de6-39f5-43ba-90c3-a922b1f7fd65"
      },
      "execution_count": 33,
      "outputs": [
        {
          "output_type": "execute_result",
          "data": {
            "text/plain": [
              "True"
            ]
          },
          "metadata": {},
          "execution_count": 33
        }
      ]
    }
  ]
}
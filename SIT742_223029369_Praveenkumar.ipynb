{
  "nbformat": 4,
  "nbformat_minor": 0,
  "metadata": {
    "colab": {
      "provenance": [],
      "collapsed_sections": [],
      "authorship_tag": "ABX9TyP/8T3jbIe1DWHMySBGbauR",
      "include_colab_link": true
    },
    "kernelspec": {
      "name": "python3",
      "display_name": "Python 3"
    },
    "language_info": {
      "name": "python"
    }
  },
  "cells": [
    {
      "cell_type": "markdown",
      "metadata": {
        "id": "view-in-github",
        "colab_type": "text"
      },
      "source": [
        "<a href=\"https://colab.research.google.com/github/praveenkumarbalakrishnan/tasks/blob/main/SIT742_223029369_Praveenkumar.ipynb\" target=\"_parent\"><img src=\"https://colab.research.google.com/assets/colab-badge.svg\" alt=\"Open In Colab\"/></a>"
      ]
    },
    {
      "cell_type": "markdown",
      "source": [
        "Student ID: 223029369\n",
        "\n",
        "Student Name: PraveenKumar Balakrishnan\n",
        "\n",
        "Attempted High Distinction Question: Yes\n",
        "\n",
        "\n",
        "\n",
        "\n"
      ],
      "metadata": {
        "id": "WMmbm2ktmnD3"
      }
    },
    {
      "cell_type": "markdown",
      "source": [
        "#Part 1"
      ],
      "metadata": {
        "id": "Xs-fKpk6m-g4"
      }
    },
    {
      "cell_type": "code",
      "source": [
        "import math\n",
        "\n",
        "import numpy as np\n",
        "import pandas as pd\n",
        "import matplotlib.pyplot as plt\n",
        "import seaborn as sns\n",
        "\n",
        "%matplotlib inline"
      ],
      "metadata": {
        "id": "QyQTIEjRaFuC"
      },
      "execution_count": 67,
      "outputs": []
    },
    {
      "cell_type": "markdown",
      "source": [
        "##Answer 1.1"
      ],
      "metadata": {
        "id": "gQ3lxFWvnEu3"
      }
    },
    {
      "cell_type": "code",
      "source": [
        "def median(input_list):\n",
        "  \"\"\"\n",
        "  This function is to get the median value of the given list\n",
        "\n",
        "  Parameters\n",
        "  ----------\n",
        "  input_list : list(int) or list(float)\n",
        "    Input list for median to be calculated\n",
        "\n",
        "  Returns\n",
        "  -------\n",
        "  median_value : float\n",
        "    Median value of the input list\n",
        "  \"\"\"\n",
        "  # Sort the input list\n",
        "  # Find the length of the list\n",
        "  # If the length is even number return middle elements average\n",
        "  # If the length is odd number return middle element\n",
        "  sorted_list = sorted(input_list)\n",
        "  list_len = len(sorted_list)\n",
        "  if list_len % 2 > 0:\n",
        "    median_value = sorted_list[(list_len // 2)]\n",
        "  else:\n",
        "    median_value = (\n",
        "        sorted_list[(list_len // 2) - 1] + sorted_list[list_len // 2]\n",
        "        ) / 2\n",
        "  return float(median_value)\n"
      ],
      "metadata": {
        "id": "iVV_IzRRpCGy"
      },
      "execution_count": 68,
      "outputs": []
    },
    {
      "cell_type": "code",
      "source": [
        "ages = [5,31,43,48,50,41,7,11,15,39,80,82,32,2,8,6,25,36,27,61,31] \n",
        "median_value = median(ages)\n",
        "print(f\"Median of the given list is {median_value}\")\n"
      ],
      "metadata": {
        "colab": {
          "base_uri": "https://localhost:8080/"
        },
        "id": "5z5igWYW3pIa",
        "outputId": "841b4432-39ac-427f-d987-af037b4b7880"
      },
      "execution_count": 69,
      "outputs": [
        {
          "output_type": "stream",
          "name": "stdout",
          "text": [
            "Median for the given list is 31.0\n"
          ]
        }
      ]
    },
    {
      "cell_type": "code",
      "source": [
        "def get_element_greater_than_npercentile(input_list, nth_percentile):\n",
        "  \"\"\"\n",
        "  This function is to get the element greater than n percentile\n",
        "\n",
        "  Parameters\n",
        "  ----------\n",
        "  input_list : list(int) or list(float)\n",
        "    Input list to get the element greater than the nth percentile\n",
        "  nth_percentile: int, 0 to 100 inclusive\n",
        "    Percentile value\n",
        "\n",
        "  Returns\n",
        "  -------\n",
        "  element_greater_than_npercentile : int\n",
        "    nth percentile value plus 1 \n",
        "  \"\"\"\n",
        "  # Sort the elements\n",
        "  # Find length of the elements\n",
        "  # Get the index of nth percentile value by applying the formula\n",
        "  # Length of the elements * (nth percentile/100), round it to the upper value\n",
        "  # Example: elements length is 10 and wanted to calculate 50th percentile value\n",
        "  # 10 * 0.5 = 5, list index start from zero since it is in length 5-1 = 4\n",
        "  # nth percentile value + 1 is where all the elements less than that percentage\n",
        "  sorted_elements = sorted(input_list)\n",
        "  elements_length = len(sorted_elements)\n",
        "  index_val = int(math.ceil(elements_length * (nth_percentile / 100)) - 1)\n",
        "  element_greater_than_npercentile = sorted_elements[index_val] + 1\n",
        "  return element_greater_than_npercentile\n"
      ],
      "metadata": {
        "id": "hVSr9_Kw_mWD"
      },
      "execution_count": 72,
      "outputs": []
    },
    {
      "cell_type": "code",
      "source": [
        "ages = [5,31,43,48,50,41,7,11,15,39,80,82,32,2,8,6,25,36,27,61,31] \n",
        "age_greater_than_npercentile = get_element_greater_than_npercentile(ages, 90)\n",
        "if age_greater_than_npercentile:\n",
        "  print(\n",
        "    f\"Age larger than 90% of other ages is {age_greater_than_npercentile}\"\n",
        "  )\n",
        "else:\n",
        "  print(f\"No age is larger than 90% of other ages\")"
      ],
      "metadata": {
        "colab": {
          "base_uri": "https://localhost:8080/"
        },
        "id": "Nh63Zvvoj5EZ",
        "outputId": "d282fdee-0fbd-4bc9-b211-4c8251781fd5"
      },
      "execution_count": 73,
      "outputs": [
        {
          "output_type": "stream",
          "name": "stdout",
          "text": [
            "Age larger than 90% of other ages is 62\n"
          ]
        }
      ]
    },
    {
      "cell_type": "markdown",
      "source": [
        "##Answer 1.2"
      ],
      "metadata": {
        "id": "1kepmt_q-_kr"
      }
    },
    {
      "cell_type": "code",
      "source": [
        "def sum_test(n):\n",
        "  \"\"\"\n",
        "  This function is to get summation of sequence numbers\n",
        "\n",
        "  Parameters\n",
        "  ----------\n",
        "  n : int\n",
        "    Number to calculate the summation of sequence numbers\n",
        "\n",
        "  Returns\n",
        "  -------\n",
        "  n_sum : int\n",
        "    Summation of sequence numbers of the given n \n",
        "  \"\"\"\n",
        "  n_sum = 0\n",
        "  for i in range(1, n + 1):\n",
        "    n_sum += i\n",
        "  return n_sum\n"
      ],
      "metadata": {
        "id": "Nvyyj7WQ_Dkj"
      },
      "execution_count": 74,
      "outputs": []
    },
    {
      "cell_type": "code",
      "source": [
        "print(f\"Summation of sequence numbers of 12 is {sum_test(12)}\")"
      ],
      "metadata": {
        "colab": {
          "base_uri": "https://localhost:8080/"
        },
        "id": "jh72yJgjpjk5",
        "outputId": "82567e41-a28d-4d30-c2ed-329d3de5755b"
      },
      "execution_count": 75,
      "outputs": [
        {
          "output_type": "stream",
          "name": "stdout",
          "text": [
            "Summation of sequence numbers of 12 is 78\n"
          ]
        }
      ]
    },
    {
      "cell_type": "markdown",
      "source": [
        "##Answer 1.3"
      ],
      "metadata": {
        "id": "8D7VkR9araFa"
      }
    },
    {
      "cell_type": "code",
      "source": [
        "def generate_grade_from_score():\n",
        "  \"\"\"\n",
        "  This function is to generate grade from score\n",
        "\n",
        "  Returns\n",
        "  -------\n",
        "  grade : str\n",
        "    Grade corresponding to the score\n",
        "  \"\"\"\n",
        "  # This while loop will be executed until return\n",
        "  # grade will be calculated from score in the given flow\n",
        "  while True:\n",
        "    try:\n",
        "      score = int(input(\"please fill your score:\"))\n",
        "      grade = \"F\" if score < 60\\\n",
        "      else \"P\" if score >= 60 and score < 70\\\n",
        "      else \"C\" if score >= 70 and score < 80\\\n",
        "      else \"D\" if score >= 80 and score < 90\\\n",
        "      else \"HD\"\n",
        "      return grade\n",
        "    except ValueError:\n",
        "      print(\"Only integer value is allowed\")\n",
        "      return None"
      ],
      "metadata": {
        "id": "QolEQ7MhA4TW"
      },
      "execution_count": 81,
      "outputs": []
    },
    {
      "cell_type": "code",
      "source": [
        "grade = generate_grade_from_score()\n",
        "if grade:\n",
        "  print(f\"Your grade for the given score is {grade}\")"
      ],
      "metadata": {
        "colab": {
          "base_uri": "https://localhost:8080/"
        },
        "id": "7goS6sKMMhmQ",
        "outputId": "a9c39780-9893-4e63-ffab-6628adccf26c"
      },
      "execution_count": 82,
      "outputs": [
        {
          "output_type": "stream",
          "name": "stdout",
          "text": [
            "please fill your score:95\n",
            "Your grade for the given score is HD\n"
          ]
        }
      ]
    },
    {
      "cell_type": "markdown",
      "source": [
        "##Answer 1.4"
      ],
      "metadata": {
        "id": "Ar4137vXOhLH"
      }
    },
    {
      "cell_type": "code",
      "source": [
        "num = 1\n",
        "increment_val = 1\n",
        "while num > 0:\n",
        "  if num <= 5:\n",
        "    print(\"*\" * num)\n",
        "  else:\n",
        "    num = 5\n",
        "    # Change increment value to opposite direction will reduce the no of \"*\"\n",
        "    increment_val = -1\n",
        "  num += increment_val"
      ],
      "metadata": {
        "colab": {
          "base_uri": "https://localhost:8080/"
        },
        "id": "D6GEHBYpOl34",
        "outputId": "bd1ef40b-3c47-4809-d5d1-55f88dbce246"
      },
      "execution_count": null,
      "outputs": [
        {
          "output_type": "stream",
          "name": "stdout",
          "text": [
            "*\n",
            "**\n",
            "***\n",
            "****\n",
            "*****\n",
            "****\n",
            "***\n",
            "**\n",
            "*\n"
          ]
        }
      ]
    },
    {
      "cell_type": "markdown",
      "source": [
        "##Answer 1.5"
      ],
      "metadata": {
        "id": "CYyjw1FjTjoP"
      }
    },
    {
      "cell_type": "code",
      "source": [
        "def extract_digits_from_string(string_value):\n",
        "  \"\"\"\n",
        "  This function is to extract digits from string\n",
        "\n",
        "  Parameters\n",
        "  ----------\n",
        "  string_value : str\n",
        "    Input string to extract the digits\n",
        "\n",
        "  Returns\n",
        "  -------\n",
        "  result : str\n",
        "    Digits extracted from the input \n",
        "  \"\"\"\n",
        "  result = \"\"\n",
        "  for s in string_value:\n",
        "      if s.isdigit():\n",
        "        result += s\n",
        "  return result\n"
      ],
      "metadata": {
        "id": "_mkqbjWxToTg"
      },
      "execution_count": 83,
      "outputs": []
    },
    {
      "cell_type": "code",
      "source": [
        "test = \"aAsmr3idd4bgs7Dlsf9eAF\"\n",
        "result = extract_digits_from_string(test)\n",
        "if result:\n",
        "  print(f\"Digits available in the given string is {result}\")\n",
        "else:\n",
        "  print(\"No digits available in the given string\")"
      ],
      "metadata": {
        "colab": {
          "base_uri": "https://localhost:8080/"
        },
        "id": "-8MyTW6CUjGB",
        "outputId": "b877ef32-d5e7-40f9-d028-2ee30755db18"
      },
      "execution_count": 86,
      "outputs": [
        {
          "output_type": "stream",
          "name": "stdout",
          "text": [
            "Digits available in the given string is 3479\n"
          ]
        }
      ]
    },
    {
      "cell_type": "markdown",
      "source": [
        "##Answer 1.6"
      ],
      "metadata": {
        "id": "MYHIUYVqW2WI"
      }
    },
    {
      "cell_type": "code",
      "source": [
        "def find_all(string_value, substring):\n",
        "  \"\"\"\n",
        "  This function is to get all indexes of the substring in the given string\n",
        "\n",
        "  Parameters\n",
        "  ----------\n",
        "  string_value : str\n",
        "    Input string to get the indexes\n",
        "  substring: str\n",
        "    Substring value to search in the given string\n",
        "\n",
        "  Returns\n",
        "  -------\n",
        "  substring_indexes : list\n",
        "    Indexes of the substring in the given string \n",
        "  \"\"\"\n",
        "  # If the substring in given string, get the index of the substring\n",
        "  # Append the index in the output\n",
        "  # Cut the found substring from the string\n",
        "  # Increment the index value by length of the substring to match with actual\n",
        "  substring_indexes = []\n",
        "  add_index_val = 0\n",
        "  while True:\n",
        "    if substring in string_value:\n",
        "      index_val = string_value.index(substring)\n",
        "      substring_indexes.append(index_val + add_index_val)\n",
        "      string_value = (\n",
        "          string_value[:index_val] + string_value[index_val + len(substring):]\n",
        "      )\n",
        "      add_index_val += len(substring)\n",
        "    else:\n",
        "      return substring_indexes\n",
        "\n"
      ],
      "metadata": {
        "id": "HsE2s3qfW54o"
      },
      "execution_count": 87,
      "outputs": []
    },
    {
      "cell_type": "code",
      "source": [
        "substring_indexes = find_all(\"helloworldhelloPythonhelloc++hellojava\", \"hello\")\n",
        "if substring_indexes:\n",
        "  print(f\"Indexes of the substring in the given string is {substring_indexes}\")\n",
        "else:\n",
        "  print(f\"Substring is not found in the given string\")"
      ],
      "metadata": {
        "colab": {
          "base_uri": "https://localhost:8080/"
        },
        "id": "5Fqd2GYNalza",
        "outputId": "df03e8b9-9aa6-46c4-81bd-a79b8aa23ed3"
      },
      "execution_count": 88,
      "outputs": [
        {
          "output_type": "stream",
          "name": "stdout",
          "text": [
            "Indexes of the substring in the given string is [0, 10, 21, 29]\n"
          ]
        }
      ]
    },
    {
      "cell_type": "markdown",
      "source": [
        "##Answer 1.7"
      ],
      "metadata": {
        "id": "1aStZDwTHGUj"
      }
    },
    {
      "cell_type": "code",
      "source": [
        "class Person:\n",
        "  \"\"\"This class is a template to store the details about the person\"\"\"\n",
        "\n",
        "  def __init__(self, name, age):\n",
        "    \"\"\"\n",
        "    init constructor will be invoked during the instantiation of the object\n",
        "    and assign the given variables to the object \n",
        "    \"\"\"\n",
        "    self.name = name\n",
        "    self.age = age\n",
        "  \n",
        "  def __str__(self):\n",
        "    \"\"\"This method will be invoked during the print operation of the object\"\"\"\n",
        "    return f\"name: {self.name}, age: {self.age}\"\n",
        "\n",
        "  def set_age(self, age):\n",
        "    \"\"\"This method is to set the age of the object\"\"\"\n",
        "    self.age = age\n",
        "\n",
        "  def get_age(self):\n",
        "    \"\"\"This method is to get the age of the object\"\"\"\n",
        "    return self.age\n"
      ],
      "metadata": {
        "id": "UXboF42VHKri"
      },
      "execution_count": 21,
      "outputs": []
    },
    {
      "cell_type": "code",
      "source": [
        "daniel = Person('Daniel', 50)\n",
        "print(daniel)\n",
        "daniel.set_age(60)\n",
        "print(daniel.get_age())\n",
        "print(daniel)"
      ],
      "metadata": {
        "colab": {
          "base_uri": "https://localhost:8080/"
        },
        "id": "YVNCCl0hMmci",
        "outputId": "185b0015-feaf-4227-9387-cea779dca2c1"
      },
      "execution_count": 22,
      "outputs": [
        {
          "output_type": "stream",
          "name": "stdout",
          "text": [
            "name: Daniel, age: 50\n",
            "60\n",
            "name: Daniel, age: 60\n"
          ]
        }
      ]
    },
    {
      "cell_type": "markdown",
      "source": [
        "##Answer 1.8"
      ],
      "metadata": {
        "id": "1uBpucqSNN1T"
      }
    },
    {
      "cell_type": "code",
      "source": [
        "def permute(nums):\n",
        "  \"\"\"\n",
        "  This function is to get the perutation of the given numbers\n",
        "\n",
        "  Parameters\n",
        "  ----------\n",
        "  nums : list\n",
        "    Input numbers to get the permutation\n",
        "\n",
        "  Returns\n",
        "  -------\n",
        "  permutations : list(list)\n",
        "    All the possible permuation combinations of the given numbers \n",
        "  \"\"\"\n",
        "  # Remove duplicates from the list\n",
        "  # Copy nums to new_nums with different memory\n",
        "  # Swap index value and index - 1 value of new nums and append to output\n",
        "  # repeat until the new num matches the actual\n",
        "  nums = list(set(nums))\n",
        "  index_end = len(nums) - 1\n",
        "  new_nums = nums[:]\n",
        "  permutations = []\n",
        "  while True:\n",
        "    if index_end >= 0:\n",
        "      new_nums[index_end - 1], new_nums[index_end] = new_nums[index_end],\\\n",
        "                                                     new_nums[index_end - 1]\n",
        "      index_end -= 1\n",
        "      # Assign deep copy of new_num in permutations\n",
        "      permutations.append(new_nums[:])\n",
        "    else:\n",
        "      index_end = len(nums) - 1\n",
        "    if nums == new_nums:\n",
        "      return permutations\n"
      ],
      "metadata": {
        "id": "kNI04iHZNR8b"
      },
      "execution_count": 89,
      "outputs": []
    },
    {
      "cell_type": "code",
      "source": [
        "nums = [1, 2, 3]\n",
        "print(permute(nums))\n",
        "nums = [1]\n",
        "print(permute(nums))"
      ],
      "metadata": {
        "colab": {
          "base_uri": "https://localhost:8080/"
        },
        "id": "bC1RJlzZRblb",
        "outputId": "8d494e3e-3aca-4322-8c7e-ff954666ba01"
      },
      "execution_count": 90,
      "outputs": [
        {
          "output_type": "stream",
          "name": "stdout",
          "text": [
            "[[1, 3, 2], [3, 1, 2], [2, 1, 3], [2, 3, 1], [3, 2, 1], [1, 2, 3]]\n",
            "[[1]]\n"
          ]
        }
      ]
    },
    {
      "cell_type": "markdown",
      "source": [
        "#Part 2"
      ],
      "metadata": {
        "id": "DQVKRJTGqBfm"
      }
    },
    {
      "cell_type": "code",
      "source": [
        "def sum_digits(n):\n",
        " r = 0\n",
        " while n :\n",
        "       r, n = r + n%10 , n//10\n",
        " return r"
      ],
      "metadata": {
        "id": "d5vGaS70qGzQ"
      },
      "execution_count": 5,
      "outputs": []
    },
    {
      "cell_type": "code",
      "source": [
        "def check_studentid(studentid):\n",
        " x = sum_digits(studentid)\n",
        " if x % 2 == 0 :\n",
        "      print ('version I')\n",
        " else:\n",
        "      print ('version II ')\n",
        " #replace the value by your studentID"
      ],
      "metadata": {
        "id": "TzdmjNOJqP8A"
      },
      "execution_count": 6,
      "outputs": []
    },
    {
      "cell_type": "code",
      "source": [
        "print(f\"Below question 2 version is selected for student_id - 223029369\")\n",
        "check_studentid(223029369)"
      ],
      "metadata": {
        "colab": {
          "base_uri": "https://localhost:8080/"
        },
        "id": "feh7QkNvqVQI",
        "outputId": "a2a55098-b7e9-4d00-e2e6-669170061464"
      },
      "execution_count": 14,
      "outputs": [
        {
          "output_type": "stream",
          "name": "stdout",
          "text": [
            "Below question 2 version is selected for student_id - 223029369\n",
            "version I\n"
          ]
        }
      ]
    },
    {
      "cell_type": "markdown",
      "source": [
        "## Question 2 (Version-I)"
      ],
      "metadata": {
        "id": "eEIF5ZRXqEZU"
      }
    },
    {
      "cell_type": "code",
      "source": [
        "def f1(x):\n",
        "  a = (-x ** 2) + 2 * x\n",
        "  return a\n",
        "\n",
        "fig, ax = plt.subplots()\n",
        "ax.set_title('-x^2+2x between 0 and 2')\n",
        "ax.plot(np.linspace(0, 2, 100), f1(np.linspace(0, 2, 100)), label='-x^2+2x')\n",
        "ax.fill_between(np.linspace(0, 2, 100), f1(np.linspace(0, 2, 100)))\n",
        "ax.legend()\n",
        "plt.show()\n"
      ],
      "metadata": {
        "colab": {
          "base_uri": "https://localhost:8080/",
          "height": 281
        },
        "id": "hppRI_KzEHj6",
        "outputId": "52f7f97b-f247-480d-ee27-434a3e2d6cc7"
      },
      "execution_count": 13,
      "outputs": [
        {
          "output_type": "display_data",
          "data": {
            "text/plain": [
              "<Figure size 432x288 with 1 Axes>"
            ],
            "image/png": "[encoded data removed]"
          },
          "metadata": {
            "needs_background": "light"
          }
        }
      ]
    },
    {
      "cell_type": "markdown",
      "source": [
        "###Question 2.1"
      ],
      "metadata": {
        "id": "tlV8k6bEXWHf"
      }
    },
    {
      "cell_type": "code",
      "source": [
        "def find_max(n):\n",
        "  \"\"\"\n",
        "  This function is to find the max value of the function f1(x)\n",
        "\n",
        "  Parameters\n",
        "  ----------\n",
        "  n : int\n",
        "    Number of random samples to use\n",
        "\n",
        "  Returns\n",
        "  -------\n",
        "  max_value : int\n",
        "    Maximum value of the function f1(x) \n",
        "  \"\"\"\n",
        "  max_value = 0.0\n",
        "  for i in np.linspace(-100, 100, n):\n",
        "    if f1(i) > max_value:\n",
        "      max_value = f1(i)\n",
        "  return round(max_value)"
      ],
      "metadata": {
        "id": "bBuCTuIjGc-y"
      },
      "execution_count": 93,
      "outputs": []
    },
    {
      "cell_type": "code",
      "source": [
        "n = 100000\n",
        "print(f\"Maximum value of function f1(x) is {find_max(n)}\")"
      ],
      "metadata": {
        "colab": {
          "base_uri": "https://localhost:8080/"
        },
        "id": "C21kke6nMWqa",
        "outputId": "2c340ad5-7eed-42a6-d56f-41b73a5cdf4e"
      },
      "execution_count": 94,
      "outputs": [
        {
          "output_type": "stream",
          "name": "stdout",
          "text": [
            "Maximum value of function f1(x) is 1\n"
          ]
        }
      ]
    },
    {
      "cell_type": "markdown",
      "source": [
        "##Question 2.2"
      ],
      "metadata": {
        "id": "fmF8I_6DalOM"
      }
    },
    {
      "cell_type": "code",
      "source": [
        "def find_area(sample_num, max_value):\n",
        "  \"\"\"\n",
        "  This function is to find the area of the function f1(x)\n",
        "\n",
        "  Parameters\n",
        "  ----------\n",
        "  sample_num : int\n",
        "    Number of random samples to use\n",
        "  max_value: int\n",
        "    Maximum value of the function f1(x)\n",
        "\n",
        "  Returns\n",
        "  -------\n",
        "  area : float\n",
        "    Area of the function f1(x) \n",
        "  \"\"\"\n",
        "  total_count, region_count = 0, 0\n",
        "  # Area of the rectangle = l * b\n",
        "  rectangle_area = (2 - 0) * (max_value - 0)\n",
        "  while total_count < sample_num:\n",
        "    x = np.random.uniform(0, 2)\n",
        "    y = np.random.uniform(0, max_value)\n",
        "    if y < f1(x):\n",
        "      region_count += 1\n",
        "    total_count += 1\n",
        "  area = (region_count / total_count) * rectangle_area\n",
        "  return area"
      ],
      "metadata": {
        "id": "pQ647YD2dsY2"
      },
      "execution_count": 99,
      "outputs": []
    },
    {
      "cell_type": "code",
      "source": [
        "n = 100000\n",
        "max_value = find_max(n)\n",
        "area = find_area(n, max_value)\n",
        "print(f\"Area of the function f1(x) when x is from 0 to 2 is {area}\")"
      ],
      "metadata": {
        "colab": {
          "base_uri": "https://localhost:8080/"
        },
        "id": "BScYebwnapzc",
        "outputId": "a0c80458-dccb-48b4-bd23-15a50a2e5cb4"
      },
      "execution_count": 100,
      "outputs": [
        {
          "output_type": "stream",
          "name": "stdout",
          "text": [
            "Area of the function f1(x) when x is from 0 to 2 is 1.33524\n"
          ]
        }
      ]
    }
  ]
}
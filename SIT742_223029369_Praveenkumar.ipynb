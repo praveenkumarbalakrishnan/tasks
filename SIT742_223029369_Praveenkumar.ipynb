{
  "nbformat": 4,
  "nbformat_minor": 0,
  "metadata": {
    "colab": {
      "provenance": [],
      "collapsed_sections": [],
      "authorship_tag": "ABX9TyO4ICH45DLqLSZwQATdyJS/",
      "include_colab_link": true
    },
    "kernelspec": {
      "name": "python3",
      "display_name": "Python 3"
    },
    "language_info": {
      "name": "python"
    }
  },
  "cells": [
    {
      "cell_type": "markdown",
      "metadata": {
        "id": "view-in-github",
        "colab_type": "text"
      },
      "source": [
        "<a href=\"https://colab.research.google.com/github/praveenkumarbalakrishnan/tasks/blob/main/SIT742_223029369_Praveenkumar.ipynb\" target=\"_parent\"><img src=\"https://colab.research.google.com/assets/colab-badge.svg\" alt=\"Open In Colab\"/></a>"
      ]
    },
    {
      "cell_type": "markdown",
      "source": [
        "Student ID: 223029369\n",
        "\n",
        "Student Name: PraveenKumar Balakrishnan\n",
        "\n",
        "Attempted High Distinction Question: Yes\n",
        "\n",
        "\n",
        "\n",
        "\n"
      ],
      "metadata": {
        "id": "WMmbm2ktmnD3"
      }
    },
    {
      "cell_type": "markdown",
      "source": [
        "#Part 1"
      ],
      "metadata": {
        "id": "Xs-fKpk6m-g4"
      }
    },
    {
      "cell_type": "code",
      "source": [
        "import math"
      ],
      "metadata": {
        "colab": {
          "base_uri": "https://localhost:8080/"
        },
        "id": "QyQTIEjRaFuC",
        "outputId": "e27c2dad-7fe8-403a-f657-07fd7b3eada9"
      },
      "execution_count": 1,
      "outputs": [
        {
          "output_type": "stream",
          "name": "stdout",
          "text": [
            "2\n"
          ]
        }
      ]
    },
    {
      "cell_type": "markdown",
      "source": [
        "##Answer 1.1"
      ],
      "metadata": {
        "id": "gQ3lxFWvnEu3"
      }
    },
    {
      "cell_type": "code",
      "source": [
        "def median(input_list):\n",
        "  \"\"\"\n",
        "  This function is to get the median value for the given list\n",
        "\n",
        "  Parameters\n",
        "  ----------\n",
        "  input_list : list(int) or list(float)\n",
        "    Input list for median to be calculated\n",
        "\n",
        "  Returns\n",
        "  -------\n",
        "  median_value : float\n",
        "    Median value of the input list\n",
        "  \"\"\"\n",
        "  # Sort the input list\n",
        "  # Find the length of the list\n",
        "  # If the length is even number return middle elements average\n",
        "  # If the length is odd number return middle element\n",
        "  sorted_list = sorted(input_list)\n",
        "  list_len = len(sorted_list)\n",
        "  if list_len % 2 > 0:\n",
        "    median_value = sorted_list[(list_len // 2)]\n",
        "  else:\n",
        "    median_value = (\n",
        "        sorted_list[(list_len // 2) - 1] + sorted_list[list_len // 2]\n",
        "        ) / 2\n",
        "  return float(median_value)\n"
      ],
      "metadata": {
        "id": "iVV_IzRRpCGy"
      },
      "execution_count": 91,
      "outputs": []
    },
    {
      "cell_type": "code",
      "source": [
        "ages = [5,31,43,48,50,41,7,11,15,39,80,82,32,2,8,6,25,36,27,61,31] \n",
        "median_value = median(ages)\n",
        "print(f\"Median for the given list is {median_value}\")\n"
      ],
      "metadata": {
        "colab": {
          "base_uri": "https://localhost:8080/"
        },
        "id": "5z5igWYW3pIa",
        "outputId": "071916c7-f088-473e-c37e-a4f7fbe64b9a"
      },
      "execution_count": 92,
      "outputs": [
        {
          "output_type": "stream",
          "name": "stdout",
          "text": [
            "Median for the given list is 31.0\n"
          ]
        }
      ]
    },
    {
      "cell_type": "code",
      "source": [
        "def get_elements_greater_than_npercentile(input_list, nth_percentile):\n",
        "  \"\"\"\n",
        "  This function is to get the elements greater than n percentile\n",
        "\n",
        "  Parameters\n",
        "  ----------\n",
        "  input_list : list(int) or list(float)\n",
        "    Input list to get the elements greater than nth percentile\n",
        "  nth_percentile: int, 0 to 100 inclusive\n",
        "    Percentile value\n",
        "\n",
        "  Returns\n",
        "  -------\n",
        "  elements_greater_than_n_percentile : list\n",
        "    Elements greater than nth percentile \n",
        "  \"\"\"\n",
        "  # Sort the elements\n",
        "  # Find length of the elements\n",
        "  # Get the index of nth percentile value by applying the formula\n",
        "  # Length of the elements * (nth percentile/100), round it to the upper value\n",
        "  # Example elements is length 10 and wanted to calculate 50th percentile value\n",
        "  # 10 * 0.5 = 5, list index start from zero since it is in length 5-1 = 4\n",
        "  sorted_elements = sorted(input_list)\n",
        "  elements_length = len(sorted_elements)\n",
        "  index_val = int(math.ceil(elements_length * (nth_percentile / 100)) - 1)\n",
        "  elements_greater_than_n_percentile = sorted_elements[index_val + 1:]\n",
        "  return elements_greater_than_n_percentile\n"
      ],
      "metadata": {
        "id": "hVSr9_Kw_mWD"
      },
      "execution_count": 27,
      "outputs": []
    },
    {
      "cell_type": "code",
      "source": [
        "ages = [5,31,43,48,50,41,7,11,15,39,80,82,32,2,8,6,25,36,27,61,31] \n",
        "age_greater_than_npercentile = get_elements_greater_than_npercentile(ages, 90)\n",
        "if age_greater_than_npercentile:\n",
        "  print(\n",
        "    f\"Ages larger than 90% of other ages are {age_greater_than_npercentile}\"\n",
        "  )\n",
        "else:\n",
        "  print(f\"No age is larger than 90% of other ages\")"
      ],
      "metadata": {
        "colab": {
          "base_uri": "https://localhost:8080/"
        },
        "id": "Nh63Zvvoj5EZ",
        "outputId": "a775522e-ab8f-4793-b48e-8c7ef747bfd4"
      },
      "execution_count": 33,
      "outputs": [
        {
          "output_type": "stream",
          "name": "stdout",
          "text": [
            "Ages larger than 90% of other ages are [80, 82]\n"
          ]
        }
      ]
    },
    {
      "cell_type": "markdown",
      "source": [
        "##Answer 1.2"
      ],
      "metadata": {
        "id": "1kepmt_q-_kr"
      }
    },
    {
      "cell_type": "code",
      "source": [
        "def sum_test(n):\n",
        "  \"\"\"\n",
        "  This function is to get summation of sequence numbers\n",
        "\n",
        "  Parameters\n",
        "  ----------\n",
        "  n : int\n",
        "    Number to calculate the summation of sequence numbers\n",
        "\n",
        "  Returns\n",
        "  -------\n",
        "  n_sum : int\n",
        "    Summation of sequence numbers of the given n \n",
        "  \"\"\"\n",
        "  n_sum = 0\n",
        "  for i in range(1, n + 1):\n",
        "    n_sum += i\n",
        "  return n_sum\n"
      ],
      "metadata": {
        "id": "Nvyyj7WQ_Dkj"
      },
      "execution_count": 42,
      "outputs": []
    },
    {
      "cell_type": "code",
      "source": [
        "print(f\"Summation of sequence numbers of 12 is {sum_test(12)}\")"
      ],
      "metadata": {
        "colab": {
          "base_uri": "https://localhost:8080/"
        },
        "id": "jh72yJgjpjk5",
        "outputId": "e2d67b3a-97e2-44ef-8a09-1b0c985a29cf"
      },
      "execution_count": 43,
      "outputs": [
        {
          "output_type": "stream",
          "name": "stdout",
          "text": [
            "Summation of sequence numbers of 12 is 78\n"
          ]
        }
      ]
    },
    {
      "cell_type": "markdown",
      "source": [
        "##Answer 1.2"
      ],
      "metadata": {
        "id": "8D7VkR9araFa"
      }
    },
    {
      "cell_type": "code",
      "source": [],
      "metadata": {
        "id": "tfsBdeBsrdMS"
      },
      "execution_count": null,
      "outputs": []
    },
    {
      "cell_type": "markdown",
      "source": [
        "#Part 2"
      ],
      "metadata": {
        "id": "DQVKRJTGqBfm"
      }
    },
    {
      "cell_type": "code",
      "source": [
        "def sum_digits(n):\n",
        " r = 0\n",
        " while n :\n",
        "       r, n = r + n%10 , n//10\n",
        " return r"
      ],
      "metadata": {
        "id": "d5vGaS70qGzQ"
      },
      "execution_count": 9,
      "outputs": []
    },
    {
      "cell_type": "code",
      "source": [
        "def check_studentid(studentid):\n",
        " x = sum_digits(studentid)\n",
        " if x % 2 == 0 :\n",
        "      print ('version I')\n",
        " else:\n",
        "      print ('version II ')\n",
        " #replace the value by your studentID"
      ],
      "metadata": {
        "id": "TzdmjNOJqP8A"
      },
      "execution_count": 10,
      "outputs": []
    },
    {
      "cell_type": "code",
      "source": [
        "print(f\"Below question 2 version is selected for student_id - 223029369\")\n",
        "check_studentid(223029369)"
      ],
      "metadata": {
        "colab": {
          "base_uri": "https://localhost:8080/"
        },
        "id": "feh7QkNvqVQI",
        "outputId": "9c2a9da8-f6d0-486d-d34d-46321d95284e"
      },
      "execution_count": 12,
      "outputs": [
        {
          "output_type": "stream",
          "name": "stdout",
          "text": [
            "Below question 2 version is selected for student_id - 223029369\n",
            "version I\n"
          ]
        }
      ]
    },
    {
      "cell_type": "markdown",
      "source": [],
      "metadata": {
        "id": "eEIF5ZRXqEZU"
      }
    }
  ]
}
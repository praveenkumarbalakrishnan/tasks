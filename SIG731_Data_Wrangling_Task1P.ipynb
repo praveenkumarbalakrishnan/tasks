{
  "nbformat": 4,
  "nbformat_minor": 0,
  "metadata": {
    "colab": {
      "provenance": [],
      "authorship_tag": "ABX9TyO/gBjPtwcjD3TEMak5Nr3E",
      "include_colab_link": true
    },
    "kernelspec": {
      "name": "python3",
      "display_name": "Python 3"
    },
    "language_info": {
      "name": "python"
    }
  },
  "cells": [
    {
      "cell_type": "markdown",
      "metadata": {
        "id": "view-in-github",
        "colab_type": "text"
      },
      "source": [
        "<a href=\"https://colab.research.google.com/github/praveenkumarbalakrishnan/tasks/blob/main/SIG731_Data_Wrangling_Task1P.ipynb\" target=\"_parent\"><img src=\"https://colab.research.google.com/assets/colab-badge.svg\" alt=\"Open In Colab\"/></a>"
      ]
    },
    {
      "cell_type": "markdown",
      "source": [
        "**Title:** Task 1P: SIG731-Data Wrangling\n",
        "\n",
        "**Name:** Praveenkumar Balakrishnan\n",
        "\n",
        "**Student Number:** 223029369\n",
        "\n",
        "**Email Address:** s223029369@deakin.edu.au\n"
      ],
      "metadata": {
        "id": "QfgWZGJdopjD"
      }
    },
    {
      "cell_type": "markdown",
      "source": [
        "# Import statements"
      ],
      "metadata": {
        "id": "YXFHK_42wGqy"
      }
    },
    {
      "cell_type": "code",
      "source": [
        "import matplotlib.pyplot as plt"
      ],
      "metadata": {
        "id": "_oYjhYMQ63Pu"
      },
      "execution_count": 59,
      "outputs": []
    },
    {
      "cell_type": "markdown",
      "source": [
        "# Task"
      ],
      "metadata": {
        "id": "Pc1aMsOTqTUH"
      }
    },
    {
      "cell_type": "markdown",
      "source": [
        "1)\n",
        "Input three Python lists of identical lengths (at least five items each) giving basic data on your friends/family, for example:\n",
        " names =[\"Basia\",\"Ania\",\"Grzesiek\",\"Elvira\",\"Katherine\"]\n",
        " heights = [1.73, 1.61, 1.80, 1.58, 1.77] # in metres \n",
        " weights = [61, 76, 78, 58, 57 ] # in kilograms\n",
        "It is assumed that names[i] gives the name of the i-th person whose height in metres is heights[i] and weight in kilograms is weights[i].\n",
        "You should enter different data, not exactly the values above."
      ],
      "metadata": {
        "id": "TOQjDIHLqgwk"
      }
    },
    {
      "cell_type": "markdown",
      "source": [
        "Create list of identical lengths represent names, heights and weights mapped to it's index"
      ],
      "metadata": {
        "id": "EapRsYCBq_qF"
      }
    },
    {
      "cell_type": "code",
      "source": [
        "names =[\"Satish\",\"Snekha\",\"Angelin\",\"Arun\",\"Annie\"]\n",
        "heights = [1.76, 1.69, 1.54, 1.72, 1.53] # in metres \n",
        "weights = [98, 52, 60, 70, 68] # in kilograms"
      ],
      "metadata": {
        "id": "he_uXb3sq-1u"
      },
      "execution_count": 82,
      "outputs": []
    },
    {
      "cell_type": "markdown",
      "source": [
        "2)\n",
        "Create a Python list bmis such that bmis[i] gives the bodymass index of the \n",
        "i-thperson."
      ],
      "metadata": {
        "id": "ow4-J_egstOY"
      }
    },
    {
      "cell_type": "markdown",
      "source": [
        "Function to validate the given heights and weights"
      ],
      "metadata": {
        "id": "khWyEtMztXYw"
      }
    },
    {
      "cell_type": "code",
      "source": [
        "def validate_data(input_list, lower_val, upper_val):\n",
        "  \"\"\"\n",
        "  This function is to validate whether the given data is between the lower\n",
        "  and upper value\n",
        "\n",
        "  Parameters\n",
        "  ----------\n",
        "  input_list: list(float)\n",
        "    Input list with corresponding values\n",
        "  lower_val: float\n",
        "    Minimum allowed value\n",
        "  upper_val: float\n",
        "    Maximum allowed value\n",
        "  \"\"\"\n",
        "  for val in input_list:\n",
        "    if val < lower_val or val > upper_val:\n",
        "      raise Exception(f\"Incorrect data, value {val} is not supported\")\n"
      ],
      "metadata": {
        "id": "EUZ9dhihso_l"
      },
      "execution_count": 68,
      "outputs": []
    },
    {
      "cell_type": "markdown",
      "source": [
        "Function to generae bmis"
      ],
      "metadata": {
        "id": "wSqEpcCbyeiD"
      }
    },
    {
      "cell_type": "code",
      "source": [
        "def get_bmi(weights, heights):\n",
        "  \"\"\"\n",
        "  This function is to generate bmi for the corresponding weigthts and heights,\n",
        "  values in the input lists should be mapped to it's index. Data will be \n",
        "  validated for equal length, minimum and maximum values before generating the \n",
        "  bmis. Incase of an validation failure exception will be throwed and bmis will\n",
        "  not be calculated\n",
        "\n",
        "  Parameters\n",
        "  ----------\n",
        "  weights: list(float)\n",
        "    List of weights\n",
        "  heigts: list(float)\n",
        "    List of heights\n",
        "\n",
        "  Returns\n",
        "  -------\n",
        "  bmis : list(float)\n",
        "    List of bmis for the corresponding weight and height\n",
        "  \"\"\"\n",
        "  bmis = []\n",
        "  if len(weights) != len(heights):\n",
        "    raise Exception(\"Given weights and heights list are in different length\")\n",
        "  validate_data(weights, 1, 1000) # data validation for weights \n",
        "  validate_data(heights, 1, 250) # data validation for heights \n",
        "  for i in range(len(weights)):\n",
        "    bmis.append((weights[i]) / ((heights[i])**2))\n",
        "  return bmis"
      ],
      "metadata": {
        "id": "wOudp_G9wTY3"
      },
      "execution_count": 69,
      "outputs": []
    },
    {
      "cell_type": "markdown",
      "source": [
        "Calling the function using the previously defined heights and weights to get the bmis"
      ],
      "metadata": {
        "id": "NPw6cocryrEH"
      }
    },
    {
      "cell_type": "code",
      "source": [
        "bmis = get_bmi(weights, heights)\n",
        "bmis"
      ],
      "metadata": {
        "colab": {
          "base_uri": "https://localhost:8080/"
        },
        "id": "nd2x3EJPy-H1",
        "outputId": "5e36084a-4eeb-41a3-e83b-5015f34c06eb"
      },
      "execution_count": 83,
      "outputs": [
        {
          "output_type": "execute_result",
          "data": {
            "text/plain": [
              "[31.63739669421488,\n",
              " 18.20664542558034,\n",
              " 25.2993759487266,\n",
              " 23.661438615467823,\n",
              " 29.04865649963689]"
            ]
          },
          "metadata": {},
          "execution_count": 83
        }
      ]
    },
    {
      "cell_type": "markdown",
      "source": [
        "The above bmis list will give the body mass index of the ith person based on their corresponding weights and heights"
      ],
      "metadata": {
        "id": "_hW2RLbE4LQf"
      }
    },
    {
      "cell_type": "markdown",
      "source": [
        "3)\n",
        "Draw a barplot"
      ],
      "metadata": {
        "id": "aBhjjo2p4baC"
      }
    },
    {
      "cell_type": "code",
      "source": [
        "plt.figure(figsize=(10, 7))\n",
        "plt.title('My Friends\\' BMIs')\n",
        "plt.bar(names, width=0.8, height=bmis, edgecolor=\"black\", align='center')\n",
        "plt.show()"
      ],
      "metadata": {
        "colab": {
          "base_uri": "https://localhost:8080/",
          "height": 444
        },
        "id": "9z3zvTyy3wUk",
        "outputId": "346ab5d9-369e-4484-e6d1-1fece11d1f92"
      },
      "execution_count": 79,
      "outputs": [
        {
          "output_type": "display_data",
          "data": {
            "text/plain": [
              "<Figure size 720x504 with 1 Axes>"
            ],
            "image/png": "[encoded data removed]"
          },
          "metadata": {
            "needs_background": "light"
          }
        }
      ]
    },
    {
      "cell_type": "markdown",
      "source": [
        "4)\n",
        "Based on the BMI categories as defined by the WHO(underweight if below 18.5,normal rangeup to 25.0, etc.), write some code that outputs a series of strings like \"{name} has BMI of {bmi} which is {bmi_category}.\":"
      ],
      "metadata": {
        "id": "Cy9Ezipv99x4"
      }
    },
    {
      "cell_type": "markdown",
      "source": [
        "Function to print bmi and bmi category of the corresponding person"
      ],
      "metadata": {
        "id": "IBldD-to-fRV"
      }
    },
    {
      "cell_type": "code",
      "source": [
        "def get_bmi_category(names, bmis):\n",
        "  \"\"\"\n",
        "  This function is to print the bmi and it's category defined by WHO, which is \n",
        "  underweight - below 18.5\n",
        "  normal weight - 18.5 to 24.9\n",
        "  overweight - 25 to 29.9\n",
        "  obese - 30 or more\n",
        "\n",
        "  Parameters\n",
        "  ----------\n",
        "  names: list(string)\n",
        "    Names list\n",
        "  bmis: list(float)\n",
        "    BMIs list\n",
        "  \"\"\"\n",
        "  for i in range(len(names)):\n",
        "    bmi_category = (\"underweight\" if bmis[i] < 18.5 else \n",
        "                    \"normal weight\" if bmis[i] >= 18.5 and bmis[i] <=24.9 else\n",
        "                    \"overweight\" if bmis[i] >= 25 and bmis[i] <=29.9 else\n",
        "                    \"obese\")\n",
        "    print(f\"{names[i]} has BMI of {bmis[i]} which is {bmi_category}.\")"
      ],
      "metadata": {
        "id": "tFNeH3vT-NHX"
      },
      "execution_count": 84,
      "outputs": []
    },
    {
      "cell_type": "code",
      "source": [
        "get_bmi_category(names, bmis)"
      ],
      "metadata": {
        "colab": {
          "base_uri": "https://localhost:8080/"
        },
        "id": "JjhZpjY1B593",
        "outputId": "9d6eb29c-66f1-408d-b880-5db424dcb7ec"
      },
      "execution_count": 85,
      "outputs": [
        {
          "output_type": "stream",
          "name": "stdout",
          "text": [
            "Satish has BMI of 31.63739669421488 which is obese.\n",
            "Snekha has BMI of 18.20664542558034 which is underweight.\n",
            "Angelin has BMI of 25.2993759487266 which is overweight.\n",
            "Arun has BMI of 23.661438615467823 which is normal weight.\n",
            "Annie has BMI of 29.04865649963689 which is overweight.\n"
          ]
        }
      ]
    }
  ]
}
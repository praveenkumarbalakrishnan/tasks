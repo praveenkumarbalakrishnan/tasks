{
  "nbformat": 4,
  "nbformat_minor": 0,
  "metadata": {
    "colab": {
      "provenance": [],
      "authorship_tag": "ABX9TyPIiBRcT0n5Yt/nTmVOCKLc",
      "include_colab_link": true
    },
    "kernelspec": {
      "name": "python3",
      "display_name": "Python 3"
    },
    "language_info": {
      "name": "python"
    }
  },
  "cells": [
    {
      "cell_type": "markdown",
      "metadata": {
        "id": "view-in-github",
        "colab_type": "text"
      },
      "source": [
        "<a href=\"https://colab.research.google.com/github/praveenkumarbalakrishnan/tasks/blob/main/SIG731_Data_Wrangling_Task1P.ipynb\" target=\"_parent\"><img src=\"https://colab.research.google.com/assets/colab-badge.svg\" alt=\"Open In Colab\"/></a>"
      ]
    },
    {
      "cell_type": "markdown",
      "source": [
        "**Title:** Task 1P: SIG731-Data Wrangling\n",
        "\n",
        "**Name:** Praveenkumar Balakrishnan\n",
        "\n",
        "**Student Number:** 223029369\n",
        "\n",
        "**Email Address:** s223029369@deakin.edu.au\n"
      ],
      "metadata": {
        "id": "QfgWZGJdopjD"
      }
    },
    {
      "cell_type": "markdown",
      "source": [
        "# Import statements"
      ],
      "metadata": {
        "id": "YXFHK_42wGqy"
      }
    },
    {
      "cell_type": "code",
      "source": [
        "import matplotlib.pyplot as plt"
      ],
      "metadata": {
        "id": "_oYjhYMQ63Pu"
      },
      "execution_count": 11,
      "outputs": []
    },
    {
      "cell_type": "markdown",
      "source": [
        "# Tasks"
      ],
      "metadata": {
        "id": "Pc1aMsOTqTUH"
      }
    },
    {
      "cell_type": "markdown",
      "source": [
        "**Task 1**\n",
        "\n",
        "Input three Python lists of identical lengths (at least five items each) giving basic data on your friends/family, for example:\n",
        "\n",
        " names =[\"Basia\",\"Ania\",\"Grzesiek\",\"Elvira\",\"Katherine\"]\n",
        "\n",
        " heights = [1.73, 1.61, 1.80, 1.58, 1.77] # in metres \n",
        "\n",
        " weights = [61, 76, 78, 58, 57 ] # in kilograms\n",
        "\n",
        "It is assumed that names[i] gives the name of the i-th person whose height in metres is heights[i] and weight in kilograms is weights[i].\n",
        "You should enter different data, not exactly the values above."
      ],
      "metadata": {
        "id": "TOQjDIHLqgwk"
      }
    },
    {
      "cell_type": "markdown",
      "source": [
        "Create list of identical lengths represent names, heights and weights mapped to it's index"
      ],
      "metadata": {
        "id": "EapRsYCBq_qF"
      }
    },
    {
      "cell_type": "code",
      "source": [
        "names =[\"Satish\",\"Snekha\",\"Angelin\",\"Arun\",\"Annie\"]\n",
        "heights = [1.76, 1.69, 1.54, 1.72, 1.53] # in metres \n",
        "weights = [98, 52, 60, 70, 68] # in kilograms"
      ],
      "metadata": {
        "id": "he_uXb3sq-1u"
      },
      "execution_count": 9,
      "outputs": []
    },
    {
      "cell_type": "markdown",
      "source": [
        "**Task 2**\n",
        "\n",
        "Create a Python list bmis such that bmis[i] gives the bodymass index of the \n",
        "i-thperson."
      ],
      "metadata": {
        "id": "ow4-J_egstOY"
      }
    },
    {
      "cell_type": "markdown",
      "source": [
        "Function to validate the given heights and weights"
      ],
      "metadata": {
        "id": "khWyEtMztXYw"
      }
    },
    {
      "cell_type": "code",
      "source": [
        "def validate_data(input_list, lower_val, upper_val):\n",
        "  \"\"\"\n",
        "  This function is to validate whether the given data is between the lower\n",
        "  and upper value\n",
        "\n",
        "  Parameters\n",
        "  ----------\n",
        "  input_list: list(float)\n",
        "    Input list with corresponding values\n",
        "  lower_val: float\n",
        "    Minimum allowed value\n",
        "  upper_val: float\n",
        "    Maximum allowed value\n",
        "  \"\"\"\n",
        "  for val in input_list:\n",
        "    if val < lower_val or val > upper_val:\n",
        "      raise Exception(f\"Incorrect data, value {val} is not supported\")\n"
      ],
      "metadata": {
        "id": "EUZ9dhihso_l"
      },
      "execution_count": 12,
      "outputs": []
    },
    {
      "cell_type": "markdown",
      "source": [
        "Function to generae bmis, for mula for bmi is weight(kg) / height(m)**2"
      ],
      "metadata": {
        "id": "wSqEpcCbyeiD"
      }
    },
    {
      "cell_type": "code",
      "source": [
        "def get_bmi(weights, heights):\n",
        "  \"\"\"\n",
        "  This function is to generate bmi for the corresponding weigthts and heights,\n",
        "  values in the input lists should be mapped to it's index. Data will be \n",
        "  validated for equal length, minimum and maximum values before generating the \n",
        "  bmis. Incase of an validation failure exception will be thrown and bmis will\n",
        "  not be calculated.\n",
        "  Note: BMI is rounded off to 2 decimal points\n",
        "\n",
        "  Parameters\n",
        "  ----------\n",
        "  weights: list(float)\n",
        "    List of weights\n",
        "  heigts: list(float)\n",
        "    List of heights\n",
        "\n",
        "  Returns\n",
        "  -------\n",
        "  bmis : list(float)\n",
        "    List of bmis for the corresponding weight and height\n",
        "  \"\"\"\n",
        "  bmis = []\n",
        "  if len(weights) != len(heights):\n",
        "    raise Exception(\"Given weights and heights list are in different length\")\n",
        "  validate_data(weights, 1, 1000) # data validation for weights \n",
        "  validate_data(heights, 0.01, 2.5) # data validation for heights \n",
        "  for i in range(len(weights)):\n",
        "    bmis.append(round((weights[i]) / (heights[i] ** 2), 2))\n",
        "  return bmis"
      ],
      "metadata": {
        "id": "wOudp_G9wTY3"
      },
      "execution_count": 13,
      "outputs": []
    },
    {
      "cell_type": "markdown",
      "source": [
        "Calling the function using the previously defined heights and weights to get the bmis"
      ],
      "metadata": {
        "id": "NPw6cocryrEH"
      }
    },
    {
      "cell_type": "code",
      "source": [
        "bmis = get_bmi(weights, heights)\n",
        "print(f\"BMI of the given names: {bmis}\")"
      ],
      "metadata": {
        "colab": {
          "base_uri": "https://localhost:8080/"
        },
        "id": "nd2x3EJPy-H1",
        "outputId": "f04538a6-69ed-4f04-8a16-a9f8fc264349"
      },
      "execution_count": 15,
      "outputs": [
        {
          "output_type": "stream",
          "name": "stdout",
          "text": [
            "BMI of the given names: [31.64, 18.21, 25.3, 23.66, 29.05]\n"
          ]
        }
      ]
    },
    {
      "cell_type": "markdown",
      "source": [
        "The above bmis list will give the body mass index of the ith person based on their corresponding weights and heights"
      ],
      "metadata": {
        "id": "_hW2RLbE4LQf"
      }
    },
    {
      "cell_type": "markdown",
      "source": [
        "**Task 3**\n",
        "\n",
        "Draw a barplot"
      ],
      "metadata": {
        "id": "aBhjjo2p4baC"
      }
    },
    {
      "cell_type": "code",
      "source": [
        "plt.figure(figsize=(10, 7))\n",
        "plt.title('My Friend\\'s BMIs')\n",
        "plt.bar(names, width=0.8, height=bmis, edgecolor=\"black\", align='center')\n",
        "plt.show()"
      ],
      "metadata": {
        "colab": {
          "base_uri": "https://localhost:8080/",
          "height": 444
        },
        "id": "9z3zvTyy3wUk",
        "outputId": "6ebb8ac1-8601-4427-8947-ebed9785d713"
      },
      "execution_count": 16,
      "outputs": [
        {
          "output_type": "display_data",
          "data": {
            "text/plain": [
              "<Figure size 720x504 with 1 Axes>"
            ],
            "image/png": "[encoded data removed]"
          },
          "metadata": {
            "needs_background": "light"
          }
        }
      ]
    },
    {
      "cell_type": "markdown",
      "source": [
        "Above is the bar plot of each person and their BMIs"
      ],
      "metadata": {
        "id": "ipmt-P2Vq6Pd"
      }
    },
    {
      "cell_type": "markdown",
      "source": [
        "**Task 4**\n",
        "\n",
        "Based on the BMI categories as defined by the WHO(underweight if below 18.5,normal rangeup to 25.0, etc.), write some code that outputs a series of strings like \"{name} has BMI of {bmi} which is {bmi_category}.\":"
      ],
      "metadata": {
        "id": "Cy9Ezipv99x4"
      }
    },
    {
      "cell_type": "markdown",
      "source": [
        "Function to print the bmi and bmi category of the corresponding person"
      ],
      "metadata": {
        "id": "IBldD-to-fRV"
      }
    },
    {
      "cell_type": "code",
      "source": [
        "def get_bmi_category(names, bmis):\n",
        "  \"\"\"\n",
        "  This function is to print the bmi and it's category defined by WHO, which is \n",
        "  underweight - below 18.5\n",
        "  normal weight - 18.5 to 24.9\n",
        "  overweight - 25 to 29.9\n",
        "  obese - 30 or more\n",
        "\n",
        "  Parameters\n",
        "  ----------\n",
        "  names: list(string)\n",
        "    Names list\n",
        "  bmis: list(float)\n",
        "    BMIs list\n",
        "  \"\"\"\n",
        "  for i in range(len(names)):\n",
        "    bmi_category = (\"underweight\" if bmis[i] < 18.5 else \n",
        "                    \"normal weight\" if bmis[i] >= 18.5 and bmis[i] <=24.9 else\n",
        "                    \"overweight\" if bmis[i] >= 25 and bmis[i] <=29.9 else\n",
        "                    \"obese\")\n",
        "    print(f\"{names[i]} has BMI of {bmis[i]} which is {bmi_category}.\")"
      ],
      "metadata": {
        "id": "tFNeH3vT-NHX"
      },
      "execution_count": 17,
      "outputs": []
    },
    {
      "cell_type": "code",
      "source": [
        "get_bmi_category(names, bmis)"
      ],
      "metadata": {
        "colab": {
          "base_uri": "https://localhost:8080/"
        },
        "id": "JjhZpjY1B593",
        "outputId": "9c0c0d47-91a2-41c9-9a14-6674f53302e7"
      },
      "execution_count": 18,
      "outputs": [
        {
          "output_type": "stream",
          "name": "stdout",
          "text": [
            "Satish has BMI of 31.64 which is obese.\n",
            "Snekha has BMI of 18.21 which is underweight.\n",
            "Angelin has BMI of 25.3 which is overweight.\n",
            "Arun has BMI of 23.66 which is normal weight.\n",
            "Annie has BMI of 29.05 which is overweight.\n"
          ]
        }
      ]
    },
    {
      "cell_type": "markdown",
      "source": [
        "Based on the above observation Satish is obese(bmi >= 30), Snekha is underweight(bmi < 18.5), Angelin is overweight(25 <= bmi <= 29.9), Arun is normal weight(18.5 <= bmi <= 24.9) and Annie is overweight(25 <= bmi <= 29.9)\n",
        "\n",
        "---\n",
        "\n"
      ],
      "metadata": {
        "id": "XC1mqYuobIWQ"
      }
    },
    {
      "cell_type": "markdown",
      "source": [
        "**Task 5**\n",
        "\n",
        "For each person, calculate also the BMI prime measure as defined in https://en.wikipedia.org/wiki/Body_mass_index."
      ],
      "metadata": {
        "id": "tUvBNNMIXzgW"
      }
    },
    {
      "cell_type": "markdown",
      "source": [
        "BMI prime is the ratio of actual BMI to upper limit optimal BMI (currently defined at 25 kg/m2). BMI prime = BMI / 25. Below is the function to calculate BMI prime"
      ],
      "metadata": {
        "id": "UKe80VNRYAJr"
      }
    },
    {
      "cell_type": "code",
      "source": [
        "def get_bmi_prime(bmis):\n",
        "  \"\"\"\n",
        "  This function is to generate bmi prime for the given bmis, which is ratio of\n",
        "  actual BMI to upper limit optimal BMI(25)\n",
        "  Note: BMI prime is rounded off to 2 decimal points\n",
        "\n",
        "  Parameters\n",
        "  ----------\n",
        "  bmis: list(float)\n",
        "    List of bmis\n",
        "\n",
        "  Returns\n",
        "  -------\n",
        "  bmi_primes : list(float)\n",
        "    List of BMI primes for the corresponding bmi\n",
        "  \"\"\"\n",
        "  bmi_primes = []\n",
        "  for i in range(len(bmis)):\n",
        "    bmi_primes.append(round(bmis[i] / 25, 2))\n",
        "  return bmi_primes"
      ],
      "metadata": {
        "id": "MlJnxjBkY4Py"
      },
      "execution_count": 19,
      "outputs": []
    },
    {
      "cell_type": "markdown",
      "source": [
        "Function to print BMI prime and percentage over or under their upper mass limit"
      ],
      "metadata": {
        "id": "eIoltpYBcs4-"
      }
    },
    {
      "cell_type": "code",
      "source": [
        "def get_bmi_prime_category(names, bmi_primes):\n",
        "  \"\"\"\n",
        "  This function is to print the bmi prime and their percentage over or under\n",
        "  their upper mass limit\n",
        "\n",
        "  Parameters\n",
        "  ----------\n",
        "  names: list(string)\n",
        "    Names list\n",
        "  bmi_primes: list(float)\n",
        "    BMI primes list\n",
        "  \"\"\"\n",
        "  for i in range(len(names)):\n",
        "    bmi_prime_percentage = int(abs(round(1 - bmi_primes[i], 2)) * 100)\n",
        "    over_under_str = \"over\" if bmi_primes[i] - 1 > 0 else \"under\"\n",
        "    bmi_prime_category = (\n",
        "        \"underweight\" if bmi_primes[i] < 0.74 else\n",
        "        \"optimal weight\" if bmi_primes[i] >= 0.74 and bmi_primes[i] <= 0.99 else\n",
        "        \"overweight\")\n",
        "    print(f\"{names[i]} has BMI prime of {bmi_primes[i]}\", \n",
        "          f\"which is {bmi_prime_category} and\",\n",
        "          f\"{bmi_prime_percentage}% {over_under_str} their upper mass limit\")"
      ],
      "metadata": {
        "id": "Xe39FmLWcsS_"
      },
      "execution_count": 22,
      "outputs": []
    },
    {
      "cell_type": "code",
      "source": [
        "bmi_primes = get_bmi_prime(bmis)\n",
        "print(f\"BMI prime of the given names: {bmi_primes}\")\n",
        "get_bmi_prime_category(names, bmi_primes)"
      ],
      "metadata": {
        "colab": {
          "base_uri": "https://localhost:8080/"
        },
        "id": "6hklGR0JaUuL",
        "outputId": "52cbeac8-4907-4691-fe17-0febf230f4e4"
      },
      "execution_count": 23,
      "outputs": [
        {
          "output_type": "stream",
          "name": "stdout",
          "text": [
            "BMI prime of the given names: [1.27, 0.73, 1.01, 0.95, 1.16]\n",
            "Satish has BMI prime of 1.27 which is overweight and 27% over their upper mass limit\n",
            "Snekha has BMI prime of 0.73 which is underweight and 27% under their upper mass limit\n",
            "Angelin has BMI prime of 1.01 which is overweight and 1% over their upper mass limit\n",
            "Arun has BMI prime of 0.95 which is optimal weight and 5% under their upper mass limit\n",
            "Annie has BMI prime of 1.16 which is overweight and 16% over their upper mass limit\n"
          ]
        }
      ]
    },
    {
      "cell_type": "markdown",
      "source": [
        "Based on the above observation, Satish is overweight and 27% over their upper mass limit, Snekha is underweight and 27% under their upper mass limit, Angelin is overweight and 1% over their upper mass limit, Arun is optimal weight and 5% under their upper mass limit and Annie is overweight and 16% over their upper mass limit.\n",
        "\n"
      ],
      "metadata": {
        "id": "Rr1imqXWp8MG"
      }
    },
    {
      "cell_type": "markdown",
      "source": [
        "**Task 6**\n",
        "\n",
        "Draw a separate barplot of the BMI prime indices of the persons in our database."
      ],
      "metadata": {
        "id": "zKrkooU1p2F_"
      }
    },
    {
      "cell_type": "code",
      "source": [
        "plt.figure(figsize=(10, 7))\n",
        "plt.title('My Friend\\'s BMI prime')\n",
        "plt.bar(names, width=0.8, height=bmi_primes, edgecolor=\"black\", align='center')\n",
        "plt.show()"
      ],
      "metadata": {
        "colab": {
          "base_uri": "https://localhost:8080/",
          "height": 444
        },
        "id": "m4ldWE8hrI6A",
        "outputId": "99b44e7f-6c50-46fc-b8d9-3c8291986cf3"
      },
      "execution_count": 24,
      "outputs": [
        {
          "output_type": "display_data",
          "data": {
            "text/plain": [
              "<Figure size 720x504 with 1 Axes>"
            ],
            "image/png": "[encoded data removed]"
          },
          "metadata": {
            "needs_background": "light"
          }
        }
      ]
    },
    {
      "cell_type": "markdown",
      "source": [
        "Above is the bar plot of each person and their BMI prime, since BMI prime is the ratio between BMI and the uppper limit optimal BMI only the magnitude of y axis changes but the pattern remains same. It can be interpreted better as explained in get_bmi_prime_category"
      ],
      "metadata": {
        "id": "F_YFNF9uQwBz"
      }
    },
    {
      "cell_type": "markdown",
      "source": [
        "**Task 7**\n",
        "\n",
        "The Wikipedia article on BMI correctly identifies this index as a very simple measure.In your own words, discuss what are the benefits and limitations of BMI and BMI prime from both the medical and societal perspective, including its possible misuses (write at least 3 text paragraphs)."
      ],
      "metadata": {
        "id": "WcWxJeCsrgYG"
      }
    },
    {
      "cell_type": "markdown",
      "source": [
        "BMI is defined as body mass(kg) divided by the square of the body height(m). Cutoff point for BMI to classify underweight is below 18.5, normal weight is \n",
        "18.5 to 24.9, overweight is 25 to 29.9 and obese is 30 or more. Because of its simplicity it's been widely used as general measurement for obesity. Generally physician uses BMI to weight the risk of obesity related problems and identify health risk and take action to mitigate that. In other hand BMI is more suitable for population studies and less appropriate for individual evaluation. BMI in addition to other measure such as waist circumference, etc will be more appropriate in individual evaluation.In some cases like lean male athlete often have high muscle-to-fat ratio for those BMI is not appropriate and also for children cutoff for BMI category is calculated differently which is less than 5th percentile is considered as underweight, above 95th percentile is considered as obese and 85th to 95th percentile is considered as overweight. The recommended values are not common for all and it vary from time to time, country to country and some categories of people. Also people from different world have different association with BMI, body to fat ratio and health risk.There are different studies conducted to associate the health rish with BMI and some studies shows that normal BMIs is at higher risk for death from cardiovascular disease than people considered as overweigth based on the BMI cutoff of 25 to 29.9.\n",
        "\n",
        "BMI is proportional to the mass and inversely proportional to the square of the height so when all the body dimensions doubles BMI also doubles instead of remaining same. This results in taller people are reported with higher BMI eventhough their actual body fat level is normal and the same applies for people with smaller frames carrying more fat than optimal and still BMI classify them as optimal weight. It been been identified that BMI overestimates 10% on people with taller frame and underestimates 10% on people with smaller frame. If we consider only BMI for individual it might lead us to give wrong suggestion for these peoples taller peoples may end up in reducing their optimal weight and smaller frame people will end up in more health risk as their actual body fat is high and not reported in BMI.BMI is poor in sensitivity which means it may correctly identify people who are obese but not perform very well in identifying people who are not obese. It is not clear on what cutoff to be set for overweight and obese since it's vary from people to people. It's been suggested that Waist circumference is the better measurement for obesity related disease over BMI. There are several alternatives available for BMI and they all have their own pros and cons.\n",
        "\n",
        "BMI prime is one of the alternative for BMI, BMI prime is the modification of BMI system which is ratio of the BMI to upper limit optimal BMI(which is currently 25 kg/m2). Cutoff point for BMI prime is been classified as underweight if less than 0.74 and optimal weight if between 0.74 and 0.99 and overweight if on or above 1. In BMI prime we can see what ratio or percentage a person deviates from the maximum optimal BMI. Since it's also uses a BMI all the limitations are still applicable but can be used for different puprposes like set a limit on how much fat to decrease to maintain the upper limit optimal BMI. BMI can be misused by companies selling weight loss product like promoting their product to consumers having optimal body weight and misleading BMI. Defined regulations on promotions or consumption of this product will be helpful for the users to stay with optimal body fat. In current trend becoming thinner is popular in lot of fashion shows, countries like France, Italy, Spain and Israel have legislation of banning the models having BMI below 18/18.5 which will help the peoples in fashion show and younger generation who wants to be in fashion show to stay in healthy weight and fight disease like anorexia."
      ],
      "metadata": {
        "id": "ydSlyBZor1mr"
      }
    }
  ]
}
{
  "nbformat": 4,
  "nbformat_minor": 0,
  "metadata": {
    "colab": {
      "provenance": [],
      "mount_file_id": "1Hxk8HjRicBdKQObRLiooFP9QGUyLZluM",
      "authorship_tag": "ABX9TyMo86E9Crt7+luKSSxZOtT9",
      "include_colab_link": true
    },
    "kernelspec": {
      "name": "python3",
      "display_name": "Python 3"
    },
    "language_info": {
      "name": "python"
    }
  },
  "cells": [
    {
      "cell_type": "markdown",
      "metadata": {
        "id": "view-in-github",
        "colab_type": "text"
      },
      "source": [
        "<a href=\"https://colab.research.google.com/github/praveenkumarbalakrishnan/tasks/blob/main/SIG731_Data_Wrangling_Task3P.ipynb\" target=\"_parent\"><img src=\"https://colab.research.google.com/assets/colab-badge.svg\" alt=\"Open In Colab\"/></a>"
      ]
    },
    {
      "cell_type": "markdown",
      "source": [
        "**Title:** Task 3P: SIG731-Data Wrangling\n",
        "\n",
        "**Name:** Praveenkumar Balakrishnan\n",
        "\n",
        "**Student Number:** 223029369\n",
        "\n",
        "**Email Address:** s223029369@deakin.edu.au"
      ],
      "metadata": {
        "id": "uryzd_XDZlch"
      }
    },
    {
      "cell_type": "markdown",
      "source": [
        "# Import Statements"
      ],
      "metadata": {
        "id": "hosBKnqoZebn"
      }
    },
    {
      "cell_type": "code",
      "source": [
        "import numpy as np\n",
        "import pandas as pd\n",
        "\n",
        "import matplotlib.pyplot as plt\n",
        "import seaborn as sns\n",
        "\n",
        "import scipy.stats\n",
        "\n",
        "import warnings\n",
        "warnings.filterwarnings('ignore')"
      ],
      "metadata": {
        "id": "luN-J4GHZ1g9"
      },
      "execution_count": 8,
      "outputs": []
    },
    {
      "cell_type": "markdown",
      "source": [
        "# Tasks"
      ],
      "metadata": {
        "id": "Z9taoBXtZ5mE"
      }
    },
    {
      "cell_type": "markdown",
      "source": [
        "**Task 1**\n",
        "\n",
        "From https://github.com/gagolews/teaching-data/tree/master/marek, download the two following excerpts from the National Health and Nutrition Examination Survey (NHANES dataset):\n",
        "\n",
        "• nhanes_adult_male_bmx_2020.csv\n",
        "\n",
        "• nhanes_adult_female_bmx_2020.csv\n",
        "\n",
        "They give body measurements of adult males and females."
      ],
      "metadata": {
        "id": "bnXsoFPuZ9SR"
      }
    },
    {
      "cell_type": "markdown",
      "source": [
        "Downloaded the given files and uploaded in the input data directory"
      ],
      "metadata": {
        "id": "wDuKtEkfcmf8"
      }
    },
    {
      "cell_type": "markdown",
      "source": [
        "**Task 2**\n",
        "\n",
        "Read the two files as numpy matrices named male and female. Each matrix consists of seven\n",
        "columns:\n",
        "1. weight (kg),\n",
        "2. standing height (cm),\n",
        "3. upper arm length (cm),\n",
        "4. upper leg length (cm),\n",
        "5. arm circumference (cm),\n",
        "6. hip circumference (cm),\n",
        "7. waist circumference (cm)."
      ],
      "metadata": {
        "id": "NPPijSg5ckba"
      }
    },
    {
      "cell_type": "markdown",
      "source": [
        "Read the data using pandas.read_csv and filtered the commented line starts with \"#\" and converted it into numpy matrices each consist of 7 columns"
      ],
      "metadata": {
        "id": "CBQoOvKneBZQ"
      }
    },
    {
      "cell_type": "code",
      "source": [
        "male_df = pd.read_csv(\n",
        "    \"/content/drive/MyDrive/Inputs/nhanes_adult_male_bmx_2020.csv\",\n",
        "     comment=\"#\")\n",
        "female_df = pd.read_csv(\n",
        "    \"/content/drive/MyDrive/Inputs/nhanes_adult_female_bmx_2020.csv\",\n",
        "     comment=\"#\")\n",
        "male = male_df.to_numpy()\n",
        "female = female_df.to_numpy()\n"
      ],
      "metadata": {
        "id": "ikNY2IjkdTKd"
      },
      "execution_count": 4,
      "outputs": []
    },
    {
      "cell_type": "markdown",
      "source": [
        "**Task 3**\n",
        "\n",
        "On a single plot (use matplotlib.pytplot.subplot), draw two histograms: for female weights (top subfigure). and for male weights (bottom subfigure) Call matplotlib.pyplot.xlim to make the xaxis limits identical for both subfigures (work out the appropriate limits yourself)."
      ],
      "metadata": {
        "id": "wz7u4emEez0h"
      }
    },
    {
      "cell_type": "markdown",
      "source": [
        "The first column in both the loaded numpy array is weight column so took 0th column from male and female numpy arrays and plotted the histogram vertically stacked which is female weight in top subfigure and male weight in bottom subfigure. Used set_xlim to make the xaxis limits identical to both subfigures"
      ],
      "metadata": {
        "id": "ujXK62kpi2Bx"
      }
    },
    {
      "cell_type": "code",
      "source": [
        "fig, (ax1, ax2) = plt.subplots(2, figsize=(10, 8))\n",
        "fig.suptitle('Female weight(top subfigure) and Male weight(bottom subfigure)')\n",
        "ax1.hist(female[:, 0])\n",
        "ax2.hist(male[:, 0])\n",
        "ax1.set_xlim(left=20, right=220)\n",
        "ax2.set_xlim(left=20, right=220)\n",
        "plt.show()"
      ],
      "metadata": {
        "colab": {
          "base_uri": "https://localhost:8080/",
          "height": 540
        },
        "id": "wB6xAjFofFfK",
        "outputId": "e128f86e-8339-4702-9d97-d053059c8941"
      },
      "execution_count": 5,
      "outputs": [
        {
          "output_type": "display_data",
          "data": {
            "text/plain": [
              "<Figure size 720x576 with 2 Axes>"
            ],
            "image/png": "[encoded data removed]"
          },
          "metadata": {
            "needs_background": "light"
          }
        }
      ]
    },
    {
      "cell_type": "markdown",
      "source": [
        "**Task4**\n",
        "\n",
        "Call matplotlib.pyplot.boxplot to draw a box-and-whisker plot, with two boxes side by side, giving the male and female weights so that they can be compared to each other. Note that the boxplot function can be fed with a list of two vectors like [female_weights, male_weights]. In your own words, discuss the results."
      ],
      "metadata": {
        "id": "O8WBOEP_k-wj"
      }
    },
    {
      "cell_type": "markdown",
      "source": [
        "The first column in both the loaded numpy array is weight column so took 0th column from male and female numpy arrays and plotted the box plot side by side"
      ],
      "metadata": {
        "id": "2lmqVWPI5aht"
      }
    },
    {
      "cell_type": "code",
      "source": [
        "plt.figure(figsize=(10, 8))\n",
        "plt.title(\"Box and Whisker plot for male and female weights\")\n",
        "male_weights = male[:, 0]\n",
        "female_weights = female[:, 0]\n",
        "plt.boxplot(\n",
        "    x=[male_weights, female_weights],\n",
        "    labels=[\"male\", \"female\"])\n",
        "plt.show()"
      ],
      "metadata": {
        "colab": {
          "base_uri": "https://localhost:8080/",
          "height": 499
        },
        "id": "6wGVtjQQlkzm",
        "outputId": "213d6e33-7dde-4e81-d330-ef91f04bfdc4"
      },
      "execution_count": 7,
      "outputs": [
        {
          "output_type": "display_data",
          "data": {
            "text/plain": [
              "<Figure size 720x576 with 1 Axes>"
            ],
            "image/png": "[encoded data removed]"
          },
          "metadata": {
            "needs_background": "light"
          }
        }
      ]
    },
    {
      "cell_type": "markdown",
      "source": [
        "In the above boxplot we can see significant outliers in both the male and female weights also the maximum weight of male is higher compared to maximum weight of female. The outliers are only in the upper side which is above \n",
        "Q3 + 1.5 times of IQR and no outliers in the lower side which is below \n",
        "Q1 - 1. times of IQR. In both male and female weights median is closer to lower quartile(Q1) compared to the upper quartile(Q3). Median closer to lower quartile and outliers are only in upperside indicates that the data is possitively skewed."
      ],
      "metadata": {
        "id": "MtEXZfjv6W7j"
      }
    },
    {
      "cell_type": "markdown",
      "source": [
        "**Task5**\n",
        "\n",
        "Compute the basic numerical aggregates of the male and female weights (measures of location,\n",
        "dispersion, and shape). In your own words, describe and compare the two distributions (e.g., are\n",
        "they left skewed, which one has more dispersion, and so forth)."
      ],
      "metadata": {
        "id": "bicz7bwl9s3r"
      }
    },
    {
      "cell_type": "code",
      "source": [
        "def generate_numerical_stats(input_np_array, label):\n",
        "  \"\"\"\n",
        "  This function is to generate numerical stats for the given input. It will \n",
        "  generate minimum, 25th percentile, mean, median, 75th percentile, maximum,\n",
        "  iqr, std and skewness and print the same.\n",
        "\n",
        "  Parameters\n",
        "  ----------\n",
        "  input_np_array: numpy array\n",
        "    numpy array\n",
        "  label: str\n",
        "    Label for the print statement\n",
        "  Returns\n",
        "  -------\n",
        "  min_val: float\n",
        "    Minimum value of the given array\n",
        "  q1_val: float\n",
        "    25th percentile of the given array\n",
        "  mean_val: float\n",
        "    Arithmetic mean of the given array\n",
        "  median_val: float\n",
        "    50th percentile of the given arary\n",
        "  q3_val: float\n",
        "    75th percentile of the given array\n",
        "  max_val: float\n",
        "    Maximum value of the given array\n",
        "  iqr: float\n",
        "    Inter quartile range of the given array\n",
        "  std_val: float\n",
        "    Standard deviation of the given arary\n",
        "  skewness_val: float\n",
        "    Skewness of the given array\n",
        "  \"\"\"\n",
        "  mean_val = np.mean(input_np_array)\n",
        "  min_val, q1_val, median_val, q3_val, max_val = np.quantile(\n",
        "      input_np_array, [0.0, 0.25, 0.5, 0.75, 1.0])\n",
        "  iqr_val = q3_val - q1_val\n",
        "  std_val = np.std(input_np_array)\n",
        "  skewness_val = scipy.stats.skew(input_np_array)\n",
        "  print(\n",
        "      f\"Minimum value of the {label} is {min_val}\\n\" +\n",
        "      f\"25th percentile of the {label} is {q1_val}\\n\" +\n",
        "      f\"Mean of the {label} is {mean_val}\\n\" +\n",
        "      f\"Median of the {label} is {median_val}\\n\" +\n",
        "      f\"75th percentile of the {label} is {q3_val}\\n\" +\n",
        "      f\"Maximum value of the {label} is {max_val}\\n\" +\n",
        "      f\"IQR of the {label} is {iqr_val}\\n\" +\n",
        "      f\"Standard deviation of the {label} is {std_val}\\n\" +\n",
        "      f\"Skewness of the {label} is {skewness_val}\\n\"\n",
        "  )\n",
        "  return (min_val, q1_val, mean_val, median_val,\n",
        "          q3_val, max_val, iqr_val, std_val, skewness_val)"
      ],
      "metadata": {
        "id": "kz6zYLv8DqRZ"
      },
      "execution_count": 23,
      "outputs": []
    },
    {
      "cell_type": "code",
      "source": [
        "(mw_min_val, mw_q1_val, mw_mean_val,\n",
        " mw_median_val, mw_q3_val, mw_max_val,\n",
        " mw_iqr_val, mw_std_val, mw_skewness_val) = generate_numerical_stats(\n",
        "     male[:, 0], \"male weight\"\n",
        " )\n",
        "\n",
        "(fw_min_val, fw_q1_val, fw_mean_val,\n",
        " fw_median_val, fw_q3_val, fw_max_val,\n",
        " fw_iqr_val, fw_std_val, fw_skewness_val) = generate_numerical_stats(\n",
        "     female[:, 0], \"female weight\"\n",
        " )"
      ],
      "metadata": {
        "colab": {
          "base_uri": "https://localhost:8080/"
        },
        "id": "AQnZVGU2R3Dd",
        "outputId": "64fac662-1af9-4a68-eefb-79792f0df5e2"
      },
      "execution_count": 26,
      "outputs": [
        {
          "output_type": "stream",
          "name": "stdout",
          "text": [
            "Minimum value of the male weight is 36.8\n",
            "25th percentile of the male weight is 73.3\n",
            "Mean of the male weight is 88.36454300416565\n",
            "Median of the male weight is 85.0\n",
            "75th percentile of the male weight is 99.8\n",
            "Maximum value of the male weight is 204.6\n",
            "IQR of the male weight is 26.5\n",
            "Standard deviation of the male weight is 21.418936717962495\n",
            "Skewness of the male weight is 0.9842810741662347\n",
            "\n",
            "Minimum value of the female weight is 32.6\n",
            "25th percentile of the female weight is 61.6\n",
            "Mean of the female weight is 77.40379057095475\n",
            "Median of the female weight is 73.6\n",
            "75th percentile of the female weight is 88.7\n",
            "Maximum value of the female weight is 180.9\n",
            "IQR of the female weight is 27.1\n",
            "Standard deviation of the female weight is 21.54250829019315\n",
            "Skewness of the female weight is 1.03336107186799\n",
            "\n"
          ]
        }
      ]
    },
    {
      "cell_type": "markdown",
      "source": [
        "Mean of both male and female weights are higher than the median of the corresponding weights which indicates that both the male and female weights are positively skewed. Based on the measures of location(minimum, 25th percentile, mean, median, 75th percentile, maximum) it been evident that the male weights are higher in general compared to the female weights. Standard deviation of male weights is little bit lower then female weights and iqr(i.e central portion of data spread) of male weights is lower than the female weights which means female weights have more dispersion compared to male weights. Skeness values are closer to 1 for both male and female weights which indicates that the data is right skewed."
      ],
      "metadata": {
        "id": "o5BgdNvcVyQo"
      }
    },
    {
      "cell_type": "markdown",
      "source": [
        "**Task 6**\n",
        "\n",
        "To the female matrix, add the eight column which gives the body mass indices of all the female participants."
      ],
      "metadata": {
        "id": "0cmNOULUZ15J"
      }
    },
    {
      "cell_type": "code",
      "source": [
        "def get_bmi(weights, heights):\n",
        "  \"\"\"\n",
        "  This function is to generate bmi for the corresponding weigthts and heights,\n",
        "  values in the input lists should be mapped to it's index. Data will be \n",
        "  validated for equal length, minimum and maximum values before generating the \n",
        "  bmis. Incase of an validation failure exception will be thrown and bmis will\n",
        "  not be calculated.\n",
        "  Note: BMI is rounded off to 2 decimal points\n",
        "\n",
        "  Parameters\n",
        "  ----------\n",
        "  weights: list(float)\n",
        "    List of weights\n",
        "  heigts: list(float)\n",
        "    List of heights in cm\n",
        "\n",
        "  Returns\n",
        "  -------\n",
        "  bmis : list(float)\n",
        "    List of bmis for the corresponding weight and height\n",
        "  \"\"\"\n",
        "  bmis = []\n",
        "  if len(weights) != len(heights):\n",
        "    raise Exception(\"Given weights and heights list are in different length\")\n",
        "  for i in range(len(weights)):\n",
        "    bmis.append(round((weights[i]) / (heights[i] ** 2), 2))\n",
        "  return bmis"
      ],
      "metadata": {
        "id": "GC5Z4gWqVMrZ"
      },
      "execution_count": 35,
      "outputs": []
    }
  ]
}
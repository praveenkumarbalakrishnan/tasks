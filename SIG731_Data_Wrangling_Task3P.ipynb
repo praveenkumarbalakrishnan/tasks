{
  "nbformat": 4,
  "nbformat_minor": 0,
  "metadata": {
    "colab": {
      "provenance": [],
      "mount_file_id": "1Hxk8HjRicBdKQObRLiooFP9QGUyLZluM",
      "authorship_tag": "ABX9TyOFzs0YMTgLBmLGMl35JZKv",
      "include_colab_link": true
    },
    "kernelspec": {
      "name": "python3",
      "display_name": "Python 3"
    },
    "language_info": {
      "name": "python"
    }
  },
  "cells": [
    {
      "cell_type": "markdown",
      "metadata": {
        "id": "view-in-github",
        "colab_type": "text"
      },
      "source": [
        "<a href=\"https://colab.research.google.com/github/praveenkumarbalakrishnan/tasks/blob/main/SIG731_Data_Wrangling_Task3P.ipynb\" target=\"_parent\"><img src=\"https://colab.research.google.com/assets/colab-badge.svg\" alt=\"Open In Colab\"/></a>"
      ]
    },
    {
      "cell_type": "markdown",
      "source": [
        "**Title:** Task 3P: SIG731-Data Wrangling\n",
        "\n",
        "**Name:** Praveenkumar Balakrishnan\n",
        "\n",
        "**Student Number:** 223029369\n",
        "\n",
        "**Email Address:** s223029369@deakin.edu.au"
      ],
      "metadata": {
        "id": "uryzd_XDZlch"
      }
    },
    {
      "cell_type": "markdown",
      "source": [
        "# Import Statements"
      ],
      "metadata": {
        "id": "hosBKnqoZebn"
      }
    },
    {
      "cell_type": "code",
      "source": [
        "import numpy as np\n",
        "import pandas as pd\n",
        "\n",
        "import matplotlib.pyplot as plt"
      ],
      "metadata": {
        "id": "luN-J4GHZ1g9"
      },
      "execution_count": 3,
      "outputs": []
    },
    {
      "cell_type": "markdown",
      "source": [
        "# Tasks"
      ],
      "metadata": {
        "id": "Z9taoBXtZ5mE"
      }
    },
    {
      "cell_type": "markdown",
      "source": [
        "**Task 1**\n",
        "\n",
        "From https://github.com/gagolews/teaching-data/tree/master/marek, download the two following excerpts from the National Health and Nutrition Examination Survey (NHANES dataset):\n",
        "\n",
        "• nhanes_adult_male_bmx_2020.csv\n",
        "\n",
        "• nhanes_adult_female_bmx_2020.csv\n",
        "\n",
        "They give body measurements of adult males and females."
      ],
      "metadata": {
        "id": "bnXsoFPuZ9SR"
      }
    },
    {
      "cell_type": "markdown",
      "source": [
        "Downloaded the given files and uploaded in the input data directory"
      ],
      "metadata": {
        "id": "wDuKtEkfcmf8"
      }
    },
    {
      "cell_type": "markdown",
      "source": [
        "**Task 2**\n",
        "\n",
        "Read the two files as numpy matrices named male and female. Each matrix consists of seven\n",
        "columns:\n",
        "1. weight (kg),\n",
        "2. standing height (cm),\n",
        "3. upper arm length (cm),\n",
        "4. upper leg length (cm),\n",
        "5. arm circumference (cm),\n",
        "6. hip circumference (cm),\n",
        "7. waist circumference (cm)."
      ],
      "metadata": {
        "id": "NPPijSg5ckba"
      }
    },
    {
      "cell_type": "markdown",
      "source": [
        "Read the data using pandas.read_csv and filtered the commented line starts with \"#\" and converted it into numpy matrices each consist of 7 columns"
      ],
      "metadata": {
        "id": "CBQoOvKneBZQ"
      }
    },
    {
      "cell_type": "code",
      "source": [
        "male_df = pd.read_csv(\n",
        "    \"/content/drive/MyDrive/Inputs/nhanes_adult_male_bmx_2020.csv\",\n",
        "     comment=\"#\")\n",
        "female_df = pd.read_csv(\n",
        "    \"/content/drive/MyDrive/Inputs/nhanes_adult_female_bmx_2020.csv\",\n",
        "     comment=\"#\")\n",
        "male = male_df.to_numpy()\n",
        "female = female_df.to_numpy()\n"
      ],
      "metadata": {
        "id": "ikNY2IjkdTKd"
      },
      "execution_count": 7,
      "outputs": []
    },
    {
      "cell_type": "markdown",
      "source": [
        "**Task 3**\n",
        "\n",
        "On a single plot (use matplotlib.pytplot.subplot), draw two histograms: for female weights (top subfigure). and for male weights (bottom subfigure) Call matplotlib.pyplot.xlim to make the xaxis limits identical for both subfigures (work out the appropriate limits yourself)."
      ],
      "metadata": {
        "id": "wz7u4emEez0h"
      }
    },
    {
      "cell_type": "code",
      "source": [
        "fig, (ax1, ax2) = plt.subplots(2, figsize=(10, 8))\n",
        "fig.suptitle('Female weight(top subfigure) and Male weight(bottom subfigure')\n",
        "ax1.hist(female[:, 0])\n",
        "ax2.hist(male[:, 0])\n",
        "ax1.set_xlim(left=20, right=220)\n",
        "ax2.set_xlim(left=20, right=220)\n",
        "plt.show()"
      ],
      "metadata": {
        "colab": {
          "base_uri": "https://localhost:8080/",
          "height": 540
        },
        "id": "wB6xAjFofFfK",
        "outputId": "6b9115c0-6e85-4e6c-b190-cf04e82f4555"
      },
      "execution_count": 26,
      "outputs": [
        {
          "output_type": "display_data",
          "data": {
            "text/plain": [
              "<Figure size 720x576 with 2 Axes>"
            ],
            "image/png": "[encoded data removed]"
          },
          "metadata": {
            "needs_background": "light"
          }
        }
      ]
    },
    {
      "cell_type": "code",
      "source": [
        "np.min(female[:, 0])"
      ],
      "metadata": {
        "colab": {
          "base_uri": "https://localhost:8080/"
        },
        "id": "HAud06RahmNs",
        "outputId": "717d8fde-6786-4c02-a9e1-db9f557ad7b1"
      },
      "execution_count": 23,
      "outputs": [
        {
          "output_type": "execute_result",
          "data": {
            "text/plain": [
              "32.6"
            ]
          },
          "metadata": {},
          "execution_count": 23
        }
      ]
    }
  ]
}